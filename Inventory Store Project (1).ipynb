{
 "cells": [
  {
   "cell_type": "code",
   "execution_count": 2,
   "id": "91253b0c-9678-40d2-b682-2150329e5012",
   "metadata": {},
   "outputs": [],
   "source": [
    "Product_Inventory={}"
   ]
  },
  {
   "cell_type": "code",
   "execution_count": 3,
   "id": "9cb2a6c7-eed5-4ffe-9b47-84a88f6e4a61",
   "metadata": {},
   "outputs": [],
   "source": [
    "Product1_Name=\"Mobile phone\"\n",
    "Product1_Quantity=5\n",
    "Product1_price=20000\n",
    "Product1_Release_Year=2020"
   ]
  },
  {
   "cell_type": "code",
   "execution_count": 5,
   "id": "e0317330-bb9e-45e6-97fa-570dca0e8dcd",
   "metadata": {},
   "outputs": [],
   "source": [
    "Product_Inventory[\"Product1 Name\"]=Product1_Name\n",
    "Product_Inventory[\"Product1 Qty\"]=Product1_Quantity\n",
    "Product_Inventory[\"Product1 price\"]=Product1_price\n",
    "Product_Inventory[\"Product1 release year\"]=Product1_Release_Year"
   ]
  },
  {
   "cell_type": "code",
   "execution_count": 6,
   "id": "8f77d705-9963-4c91-9977-dcfc5c7c3bea",
   "metadata": {},
   "outputs": [
    {
     "name": "stdout",
     "output_type": "stream",
     "text": [
      "{'Product1 Name': 'Mobile phone', 'Product1 Qty': 5, 'Product1 price': 20000, 'Product1 release year': 2020}\n"
     ]
    }
   ],
   "source": [
    "print(Product_Inventory)"
   ]
  },
  {
   "cell_type": "code",
   "execution_count": 7,
   "id": "284ba724-853f-4c13-8756-eb8c790214b9",
   "metadata": {},
   "outputs": [],
   "source": [
    "Product2_Name=\"Laptop\"\n",
    "Product2_Quantity=10\n",
    "Product2_price=50000\n",
    "Product2_Release_Year=2023\n",
    "Product_Inventory[\"Product2 Name\"]=Product2_Name\n",
    "Product_Inventory[\"Product2 Qty\"]=Product2_Quantity\n",
    "Product_Inventory[\"Product2 price\"]=Product2_price\n",
    "Product_Inventory[\"Product2 release year\"]=Product2_Release_Year"
   ]
  },
  {
   "cell_type": "code",
   "execution_count": 8,
   "id": "3fecb7c3-5fb1-4833-a2e5-391ae951cfb8",
   "metadata": {},
   "outputs": [
    {
     "name": "stdout",
     "output_type": "stream",
     "text": [
      "{'Product1 Name': 'Mobile phone', 'Product1 Qty': 5, 'Product1 price': 20000, 'Product1 release year': 2020, 'Product2 Name': 'Laptop', 'Product2 Qty': 10, 'Product2 price': 50000, 'Product2 release year': 2023}\n"
     ]
    }
   ],
   "source": [
    "print(Product_Inventory)"
   ]
  },
  {
   "cell_type": "code",
   "execution_count": 11,
   "id": "c2cc82b0-1966-4f72-9e4d-e8932d21e0e9",
   "metadata": {},
   "outputs": [
    {
     "data": {
      "text/plain": [
       "True"
      ]
     },
     "execution_count": 11,
     "metadata": {},
     "output_type": "execute_result"
    }
   ],
   "source": [
    "'Product2 release year' in Product_Inventory\n"
   ]
  },
  {
   "cell_type": "code",
   "execution_count": 12,
   "id": "2d8bc7aa-cf8f-4f81-8152-110b0f182577",
   "metadata": {},
   "outputs": [
    {
     "data": {
      "text/plain": [
       "True"
      ]
     },
     "execution_count": 12,
     "metadata": {},
     "output_type": "execute_result"
    }
   ],
   "source": [
    "'Product1 release year' in Product_Inventory"
   ]
  },
  {
   "cell_type": "code",
   "execution_count": 13,
   "id": "4d4252cb-8c77-4eba-976b-77703e0b6575",
   "metadata": {},
   "outputs": [],
   "source": [
    "#let's delete product 1 release year as it is not needed\n",
    "del(Product_Inventory['Product1 release year'])"
   ]
  },
  {
   "cell_type": "code",
   "execution_count": 14,
   "id": "3d4df5ce-2186-49ae-8f5a-cfd7fa3663c7",
   "metadata": {},
   "outputs": [
    {
     "data": {
      "text/plain": [
       "{'Product1 Name': 'Mobile phone',\n",
       " 'Product1 Qty': 5,\n",
       " 'Product1 price': 20000,\n",
       " 'Product2 Name': 'Laptop',\n",
       " 'Product2 Qty': 10,\n",
       " 'Product2 price': 50000,\n",
       " 'Product2 release year': 2023}"
      ]
     },
     "execution_count": 14,
     "metadata": {},
     "output_type": "execute_result"
    }
   ],
   "source": [
    "Product_Inventory"
   ]
  },
  {
   "cell_type": "code",
   "execution_count": 16,
   "id": "e6f00906-5b1e-4df1-8c24-93be8ac05c6b",
   "metadata": {},
   "outputs": [
    {
     "data": {
      "text/plain": [
       "50000"
      ]
     },
     "execution_count": 16,
     "metadata": {},
     "output_type": "execute_result"
    }
   ],
   "source": [
    "#What's the price of Laptop\n",
    "Product_Inventory[\"Product2 price\"]"
   ]
  },
  {
   "cell_type": "markdown",
   "id": "802bc3f0-d140-45a3-9e52-e3af5ea6928c",
   "metadata": {},
   "source": [
    "## Author\n",
    "\n",
    "### Oluwafemi AWE"
   ]
  }
 ],
 "metadata": {
  "kernelspec": {
   "display_name": "Python [conda env:anacondaa3]",
   "language": "python",
   "name": "conda-env-anacondaa3-py"
  },
  "language_info": {
   "codemirror_mode": {
    "name": "ipython",
    "version": 3
   },
   "file_extension": ".py",
   "mimetype": "text/x-python",
   "name": "python",
   "nbconvert_exporter": "python",
   "pygments_lexer": "ipython3",
   "version": "3.12.7"
  }
 },
 "nbformat": 4,
 "nbformat_minor": 5
}
